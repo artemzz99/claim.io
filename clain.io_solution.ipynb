{
 "cells": [
  {
   "cell_type": "code",
   "execution_count": 1,
   "metadata": {
    "ExecuteTime": {
     "end_time": "2020-10-26T19:33:58.698555Z",
     "start_time": "2020-10-26T19:33:57.237432Z"
    }
   },
   "outputs": [],
   "source": [
    "import pandas as pd"
   ]
  },
  {
   "cell_type": "code",
   "execution_count": 2,
   "metadata": {
    "ExecuteTime": {
     "end_time": "2020-10-26T19:33:59.568804Z",
     "start_time": "2020-10-26T19:33:59.562800Z"
    }
   },
   "outputs": [],
   "source": [
    "def df_info(df):\n",
    "    \n",
    "    '''\n",
    "    Функция выводит наиболее важную информацию о данных в компактном представлении\n",
    "    '''\n",
    "    \n",
    "    print('Состав:', df.head(), sep='\\n')\n",
    "    print(df.info(), sep='\\n')\n",
    "    print('Размер:', df.shape, sep='\\n')\n",
    "    print('Дубликаты:', sum(df.duplicated()), sep='\\n')\n",
    "    pass"
   ]
  },
  {
   "cell_type": "code",
   "execution_count": 3,
   "metadata": {
    "ExecuteTime": {
     "end_time": "2020-10-26T19:34:00.270607Z",
     "start_time": "2020-10-26T19:34:00.242604Z"
    }
   },
   "outputs": [
    {
     "name": "stdout",
     "output_type": "stream",
     "text": [
      "Состав:\n",
      "   address_id  cluster_id\n",
      "0    71413451           1\n",
      "1    71411914           1\n",
      "2    71410369           1\n",
      "3    71410100           1\n",
      "4    71410040           1\n",
      "<class 'pandas.core.frame.DataFrame'>\n",
      "RangeIndex: 6996 entries, 0 to 6995\n",
      "Data columns (total 2 columns):\n",
      " #   Column      Non-Null Count  Dtype\n",
      "---  ------      --------------  -----\n",
      " 0   address_id  6996 non-null   int64\n",
      " 1   cluster_id  6996 non-null   int64\n",
      "dtypes: int64(2)\n",
      "memory usage: 109.4 KB\n",
      "None\n",
      "Размер:\n",
      "(6996, 2)\n",
      "Дубликаты:\n",
      "0\n"
     ]
    }
   ],
   "source": [
    "clust = pd.read_csv('address_clust.csv')\n",
    "df_info(clust)"
   ]
  },
  {
   "cell_type": "code",
   "execution_count": 4,
   "metadata": {
    "ExecuteTime": {
     "end_time": "2020-10-26T19:34:00.937102Z",
     "start_time": "2020-10-26T19:34:00.832109Z"
    }
   },
   "outputs": [
    {
     "name": "stdout",
     "output_type": "stream",
     "text": [
      "Состав:\n",
      "         id  address_id  transaction_id   received       sent\n",
      "0  87134765    46402336        19162323        0.0  1800000.0\n",
      "1  87134766    45919235        19162323        0.0  1071052.0\n",
      "2  87134767    46529090        19162323  1000000.0        0.0\n",
      "3  87134768    46529091        19162323  1821052.0        0.0\n",
      "4  87154706    46529090        19166856        0.0  1000000.0\n",
      "<class 'pandas.core.frame.DataFrame'>\n",
      "RangeIndex: 76724 entries, 0 to 76723\n",
      "Data columns (total 5 columns):\n",
      " #   Column          Non-Null Count  Dtype  \n",
      "---  ------          --------------  -----  \n",
      " 0   id              76724 non-null  int64  \n",
      " 1   address_id      76724 non-null  int64  \n",
      " 2   transaction_id  76724 non-null  int64  \n",
      " 3   received        76724 non-null  float64\n",
      " 4   sent            76724 non-null  float64\n",
      "dtypes: float64(2), int64(3)\n",
      "memory usage: 2.9 MB\n",
      "None\n",
      "Размер:\n",
      "(76724, 5)\n",
      "Дубликаты:\n",
      "22279\n"
     ]
    }
   ],
   "source": [
    "stats = pd.read_csv('address_stats.csv')\n",
    "df_info(stats)"
   ]
  },
  {
   "cell_type": "code",
   "execution_count": 5,
   "metadata": {
    "ExecuteTime": {
     "end_time": "2020-10-26T19:34:01.622814Z",
     "start_time": "2020-10-26T19:34:01.580809Z"
    }
   },
   "outputs": [],
   "source": [
    "stats.drop_duplicates(inplace=True)"
   ]
  },
  {
   "cell_type": "code",
   "execution_count": 6,
   "metadata": {
    "ExecuteTime": {
     "end_time": "2020-10-26T19:34:02.374403Z",
     "start_time": "2020-10-26T19:34:02.298398Z"
    }
   },
   "outputs": [
    {
     "name": "stdout",
     "output_type": "stream",
     "text": [
      "Состав:\n",
      "         id  address_id  transaction_id   received       sent  cluster_id\n",
      "0  87134765    46402336        19162323        0.0  1800000.0         NaN\n",
      "1  87134766    45919235        19162323        0.0  1071052.0         NaN\n",
      "2  87134767    46529090        19162323  1000000.0        0.0         1.0\n",
      "3  87134768    46529091        19162323  1821052.0        0.0         NaN\n",
      "4  87154706    46529090        19166856        0.0  1000000.0         1.0\n",
      "<class 'pandas.core.frame.DataFrame'>\n",
      "Int64Index: 54445 entries, 0 to 54444\n",
      "Data columns (total 6 columns):\n",
      " #   Column          Non-Null Count  Dtype  \n",
      "---  ------          --------------  -----  \n",
      " 0   id              54445 non-null  int64  \n",
      " 1   address_id      54445 non-null  int64  \n",
      " 2   transaction_id  54445 non-null  int64  \n",
      " 3   received        54445 non-null  float64\n",
      " 4   sent            54445 non-null  float64\n",
      " 5   cluster_id      37625 non-null  float64\n",
      "dtypes: float64(3), int64(3)\n",
      "memory usage: 2.9 MB\n",
      "None\n",
      "Размер:\n",
      "(54445, 6)\n",
      "Дубликаты:\n",
      "0\n"
     ]
    }
   ],
   "source": [
    "full = stats.merge(clust, on='address_id', how='left')\n",
    "df_info(full)"
   ]
  },
  {
   "cell_type": "code",
   "execution_count": 7,
   "metadata": {
    "ExecuteTime": {
     "end_time": "2020-10-26T19:34:03.482335Z",
     "start_time": "2020-10-26T19:34:03.475335Z"
    }
   },
   "outputs": [],
   "source": [
    "full.fillna(0, inplace=True)\n",
    "del clust, stats"
   ]
  },
  {
   "cell_type": "markdown",
   "metadata": {},
   "source": [
    "пару вопросов..."
   ]
  },
  {
   "cell_type": "code",
   "execution_count": 8,
   "metadata": {
    "ExecuteTime": {
     "end_time": "2020-10-26T19:34:05.687334Z",
     "start_time": "2020-10-26T19:34:05.665343Z"
    }
   },
   "outputs": [
    {
     "name": "stdout",
     "output_type": "stream",
     "text": [
      "Да\n"
     ]
    }
   ],
   "source": [
    "#Может ли в одной тразакции быть несколько адресов-отправителей?\n",
    "\n",
    "gr = full[full.sent>0].groupby('transaction_id')['address_id'].nunique()\n",
    "\n",
    "if sum(gr[gr>1]):\n",
    "    print('Да')\n",
    "else:\n",
    "    print('Нет')"
   ]
  },
  {
   "cell_type": "code",
   "execution_count": 9,
   "metadata": {
    "ExecuteTime": {
     "end_time": "2020-10-26T19:34:06.517524Z",
     "start_time": "2020-10-26T19:34:06.500534Z"
    }
   },
   "outputs": [
    {
     "name": "stdout",
     "output_type": "stream",
     "text": [
      "Нет\n"
     ]
    }
   ],
   "source": [
    "#Могут ли в одной тразакции быть разные кластеры-отправители?\n",
    "\n",
    "gr = full[full.sent>0].groupby('transaction_id')['cluster_id'].nunique()\n",
    "\n",
    "if sum(gr[gr>1]):\n",
    "    print('Да')\n",
    "else:\n",
    "    print('Нет')"
   ]
  },
  {
   "cell_type": "code",
   "execution_count": 10,
   "metadata": {
    "ExecuteTime": {
     "end_time": "2020-10-26T19:34:07.291406Z",
     "start_time": "2020-10-26T19:34:07.272402Z"
    }
   },
   "outputs": [
    {
     "name": "stdout",
     "output_type": "stream",
     "text": [
      "Да\n"
     ]
    }
   ],
   "source": [
    "#Что насчет кластеров-получателей?\n",
    "\n",
    "gr = full[full.received>0].groupby('transaction_id')['cluster_id'].nunique()\n",
    "\n",
    "if sum(gr[gr>1]):\n",
    "    print('Да')\n",
    "else:\n",
    "    print('Нет')"
   ]
  },
  {
   "cell_type": "markdown",
   "metadata": {},
   "source": [
    "Сколько биткоинов отправил кластер 1 в кластер 2 и сколько кластер 2 отправил в кластер 1?"
   ]
  },
  {
   "cell_type": "code",
   "execution_count": 11,
   "metadata": {
    "ExecuteTime": {
     "end_time": "2020-10-26T19:34:08.798070Z",
     "start_time": "2020-10-26T19:34:08.794068Z"
    }
   },
   "outputs": [],
   "source": [
    "def answ(func):\n",
    "    def wrapper():\n",
    "        return(f'{func(sender, receiver)} btc отправил кластер {sender} в кластер {receiver}')\n",
    "    return wrapper"
   ]
  },
  {
   "cell_type": "code",
   "execution_count": 12,
   "metadata": {
    "ExecuteTime": {
     "end_time": "2020-10-26T19:34:09.986073Z",
     "start_time": "2020-10-26T19:34:09.980084Z"
    }
   },
   "outputs": [],
   "source": [
    "@answ\n",
    "def how_many(sender, receiver):\n",
    "    '''\n",
    "    Т. к. в одной транзакции получателями могут выступать как участники кластеров, \n",
    "    так и внешние получатели одновременно\n",
    "    то сумму отправленных btc с кластера 'sender' будем считать по количеству \n",
    "    полученных другим кластером 'receiver' монет\n",
    "    '''\n",
    "    sen_con = (full.cluster_id==sender)&(full.sent>0)\n",
    "    rec_con = (full.cluster_id==receiver)&(full.received>0)\n",
    "    \n",
    "    sent_id = full.loc[sen_con, 'transaction_id']\n",
    "    sent_sum = full.loc[rec_con&full.transaction_id.isin(sent_id), 'received'].sum()\n",
    "    \n",
    "    return sent_sum/10**8"
   ]
  },
  {
   "cell_type": "code",
   "execution_count": 13,
   "metadata": {
    "ExecuteTime": {
     "end_time": "2020-10-26T19:34:11.344044Z",
     "start_time": "2020-10-26T19:34:11.321040Z"
    }
   },
   "outputs": [
    {
     "data": {
      "text/plain": [
       "'64.62162 btc отправил кластер 1 в кластер 2'"
      ]
     },
     "execution_count": 13,
     "metadata": {},
     "output_type": "execute_result"
    }
   ],
   "source": [
    "sender=1 \n",
    "receiver=2\n",
    "how_many()"
   ]
  },
  {
   "cell_type": "code",
   "execution_count": 14,
   "metadata": {
    "ExecuteTime": {
     "end_time": "2020-10-26T19:34:12.480839Z",
     "start_time": "2020-10-26T19:34:12.468839Z"
    }
   },
   "outputs": [
    {
     "data": {
      "text/plain": [
       "'67.91 btc отправил кластер 2 в кластер 1'"
      ]
     },
     "execution_count": 14,
     "metadata": {},
     "output_type": "execute_result"
    }
   ],
   "source": [
    "sender=2\n",
    "receiver=1\n",
    "how_many()"
   ]
  },
  {
   "cell_type": "code",
   "execution_count": 15,
   "metadata": {
    "ExecuteTime": {
     "end_time": "2020-10-26T19:34:13.462078Z",
     "start_time": "2020-10-26T19:34:13.451077Z"
    }
   },
   "outputs": [
    {
     "data": {
      "text/plain": [
       "'291.5108346 btc отправил кластер 1 в кластер 0'"
      ]
     },
     "execution_count": 15,
     "metadata": {},
     "output_type": "execute_result"
    }
   ],
   "source": [
    "#Сколько биткоинов отправил кластер 1 в кластер 0\n",
    "sender=1\n",
    "receiver=0\n",
    "how_many()"
   ]
  },
  {
   "cell_type": "code",
   "execution_count": 16,
   "metadata": {
    "ExecuteTime": {
     "end_time": "2020-10-26T19:34:14.553165Z",
     "start_time": "2020-10-26T19:34:14.543164Z"
    }
   },
   "outputs": [
    {
     "data": {
      "text/plain": [
       "'288.7905886 btc отправил кластер 0 в кластер 1'"
      ]
     },
     "execution_count": 16,
     "metadata": {},
     "output_type": "execute_result"
    }
   ],
   "source": [
    "#и сколько кластер 0 отправил в кластер 1?\n",
    "sender=0\n",
    "receiver=1\n",
    "how_many()"
   ]
  },
  {
   "cell_type": "code",
   "execution_count": 17,
   "metadata": {
    "ExecuteTime": {
     "end_time": "2020-10-26T19:34:15.517527Z",
     "start_time": "2020-10-26T19:34:15.506525Z"
    }
   },
   "outputs": [
    {
     "data": {
      "text/plain": [
       "'2.43507 btc отправил кластер 2 в кластер 0'"
      ]
     },
     "execution_count": 17,
     "metadata": {},
     "output_type": "execute_result"
    }
   ],
   "source": [
    "#Сколько биткоинов отправил кластер 2 в кластер 0\n",
    "sender=2\n",
    "receiver=0\n",
    "how_many()"
   ]
  },
  {
   "cell_type": "code",
   "execution_count": 18,
   "metadata": {
    "ExecuteTime": {
     "end_time": "2020-10-26T19:34:16.718892Z",
     "start_time": "2020-10-26T19:34:16.706371Z"
    }
   },
   "outputs": [
    {
     "data": {
      "text/plain": [
       "'6.09640861 btc отправил кластер 0 в кластер 2'"
      ]
     },
     "execution_count": 18,
     "metadata": {},
     "output_type": "execute_result"
    }
   ],
   "source": [
    "#и сколько кластер 0 отправил в кластер 2?\n",
    "sender=0\n",
    "receiver=2\n",
    "how_many()"
   ]
  },
  {
   "cell_type": "code",
   "execution_count": 19,
   "metadata": {
    "ExecuteTime": {
     "end_time": "2020-10-26T19:34:17.886144Z",
     "start_time": "2020-10-26T19:34:17.880152Z"
    }
   },
   "outputs": [],
   "source": [
    "#Сколько биткоинов потратил кластер 1 и кластер 2 на fee?\n",
    "\n",
    "def clfee(sender):\n",
    "    \n",
    "    sen_id = full.loc[(full.cluster_id==sender)&(full.sent>0), 'transaction_id']\n",
    "    sent_sum = full.loc[full.transaction_id.isin(sen_id), 'sent'].sum()\n",
    "    rec_sum = full.loc[full.transaction_id.isin(sen_id), 'received'].sum()\n",
    "    fee = (sent_sum-rec_sum)/10**8\n",
    "    return f'Кластер {sender}, потратил {fee} btc на fee'"
   ]
  },
  {
   "cell_type": "code",
   "execution_count": 20,
   "metadata": {
    "ExecuteTime": {
     "end_time": "2020-10-26T19:34:20.206731Z",
     "start_time": "2020-10-26T19:34:20.195727Z"
    }
   },
   "outputs": [
    {
     "data": {
      "text/plain": [
       "'Кластер 1, потратил 0.502344 btc на fee'"
      ]
     },
     "execution_count": 20,
     "metadata": {},
     "output_type": "execute_result"
    }
   ],
   "source": [
    "clfee(1)"
   ]
  },
  {
   "cell_type": "code",
   "execution_count": 21,
   "metadata": {
    "ExecuteTime": {
     "end_time": "2020-10-26T19:34:21.050783Z",
     "start_time": "2020-10-26T19:34:21.036782Z"
    }
   },
   "outputs": [
    {
     "data": {
      "text/plain": [
       "'Кластер 2, потратил 0.37295861 btc на fee'"
      ]
     },
     "execution_count": 21,
     "metadata": {},
     "output_type": "execute_result"
    }
   ],
   "source": [
    "clfee(2)"
   ]
  },
  {
   "cell_type": "code",
   "execution_count": null,
   "metadata": {},
   "outputs": [],
   "source": []
  }
 ],
 "metadata": {
  "kernelspec": {
   "display_name": "Python 3",
   "language": "python",
   "name": "python3"
  },
  "language_info": {
   "codemirror_mode": {
    "name": "ipython",
    "version": 3
   },
   "file_extension": ".py",
   "mimetype": "text/x-python",
   "name": "python",
   "nbconvert_exporter": "python",
   "pygments_lexer": "ipython3",
   "version": "3.7.6"
  }
 },
 "nbformat": 4,
 "nbformat_minor": 4
}
